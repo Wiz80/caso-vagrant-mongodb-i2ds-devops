{
 "cells": [
  {
   "cell_type": "code",
   "execution_count": null,
   "metadata": {},
   "outputs": [],
   "source": [
    "from datetime import datetime\n",
    "from pymongo import MongoClient\n",
    "\n",
    "client = MongoClient('mongodb://localhost:27017/')\n",
    "db = client.covid19\n",
    "collection = db.daily\n",
    "\n",
    "for result in collection.find({\"Country_Region\": \"Mexico\", \"Province_State\":\"Michoacan\"}):\n",
    "    print (result)"
   ]
  }
 ],
 "metadata": {
  "language_info": {
   "name": "python"
  },
  "orig_nbformat": 4
 },
 "nbformat": 4,
 "nbformat_minor": 2
}
